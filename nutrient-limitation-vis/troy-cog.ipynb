{
 "cells": [
  {
   "cell_type": "code",
   "execution_count": 4,
   "id": "83ad74b2-f2b5-4029-b69a-0a49cfe94b63",
   "metadata": {
    "tags": []
   },
   "outputs": [
    {
     "name": "stdout",
     "output_type": "stream",
     "text": [
      "['Mean_Oxygen' 'log_depth' 'log_PO4' 'sqrt_iron' 'size_fraction0.22-3'\n",
      " 'Absolute_Latitude' 'Mean_Temperature' 'log_NO2NO3' 'Mean_Salinity']\n"
     ]
    }
   ],
   "source": [
    "import pandas as pd\n",
    "\n",
    "# Load the TSV file\n",
    "file_path = '/Users/zhanghanni/Desktop/nutrient-limitation-vis/significant_COG_list.tsv'\n",
    "\n",
    "# Reading the TSV file\n",
    "df = pd.read_csv(file_path, sep='\\t')\n",
    "\n",
    "# Get the unique values in the 'metadata' column\n",
    "unique_metadata = df['metadata'].unique()\n",
    "\n",
    "print(unique_metadata)\n"
   ]
  },
  {
   "cell_type": "code",
   "execution_count": 22,
   "id": "0109cac9-307b-44fb-8be3-c9ac6924b5dc",
   "metadata": {
    "tags": []
   },
   "outputs": [
    {
     "name": "stdout",
     "output_type": "stream",
     "text": [
      "          COG    metadata  polarity\n",
      "22    COG0581     log_PO4  negative\n",
      "26    COG2391   sqrt_iron  positive\n",
      "28    COG1117     log_PO4  negative\n",
      "30    COG0226     log_PO4  negative\n",
      "33    COG0394     log_PO4  negative\n",
      "...       ...         ...       ...\n",
      "5411  COG4630   sqrt_iron  positive\n",
      "5420  COG3273  log_NO2NO3  positive\n",
      "5421  COG3480     log_PO4  negative\n",
      "5425  COG5371  log_NO2NO3  negative\n",
      "5429  COG0756  log_NO2NO3  positive\n",
      "\n",
      "[1492 rows x 3 columns]\n"
     ]
    }
   ],
   "source": [
    "\n",
    "#filter out irrelevant metadata\n",
    "\n",
    "# List of metadata values to filter out\n",
    "# randomeffects: not used, give a group variability, but it should not be used for unique values latlon. AND latlon vary for \n",
    "#nutirent different, whcih is aldraedy account for. \n",
    "# size fraction, just to account to another variable.\n",
    "exclude_metadata = ['size_fraction0.22-3', 'log_depth', 'Absolute_Latitude', 'Mean_Temperature', 'Mean_Salinity', 'Mean_Oxygen']\n",
    "\n",
    "# Filter the DataFrame, keeping rows where metadata is not in the exclude list\n",
    "filtered_df = df[~df['metadata'].isin(exclude_metadata)]\n",
    "\n",
    "# Save or display the filtered DataFrame\n",
    "print(filtered_df)\n",
    "\n",
    "# Optionally, save the filtered DataFrame to a new TSV file\n",
    "filtered_df.to_csv('filtered_significant_COG_list.tsv', sep='\\t', index=False)\n",
    "\n",
    "filtered_df[\"COG\"].to_csv('COGs_to_reconcile.tsv', sep='\\t', index=False)\n"
   ]
  },
  {
   "cell_type": "code",
   "execution_count": 17,
   "id": "b58e32bf-f36c-4eaf-979c-1f414107eb8f",
   "metadata": {
    "tags": []
   },
   "outputs": [
    {
     "name": "stdout",
     "output_type": "stream",
     "text": [
      "Index(['COG', 'p.val', 'corr', 'COG_function', 'substrate'], dtype='object')\n",
      "COGs in filtered_COG_column.tsv but not in reconciled_COGs.csv:\n",
      "{'COG1502', 'COG2068', 'COG3242', 'COG3840', 'COG0634', 'COG1635', 'COG4279', 'COG3975', 'COG3663', 'COG3737', 'COG4678', 'COG3492', 'COG0549', 'COG0413', 'COG1958', 'COG0442', 'COG5015', 'COG4403', 'COG3655', 'COG5663', 'COG2268', 'COG2041', 'COG1042', 'COG3865', 'COG1592', 'COG0113', 'COG1791', 'COG0701', 'COG4635', 'COG4102', 'COG2345', 'COG1884', 'COG3272', 'COG3090', 'COG5011', 'COG3217', 'COG1902', 'COG4634', 'COG3273', 'COG2038', 'COG1280', 'COG1168', 'COG0521', 'COG0746', 'COG5146', 'COG0762', 'COG0745', 'COG1733', 'COG2210', 'COG2921', 'COG1349', 'COG0291', 'COG0383', 'COG4137', 'COG2214', 'COG0444', 'COG2258', 'COG4106', 'COG1441', 'COG3367', 'COG1716', 'COG3164', 'COG1476', 'COG0053', 'COG2231', 'COG3147', 'COG5014', 'COG3211', 'COG1850', 'COG0561', 'COG2329', 'COG3587', 'COG0606', 'COG0173', 'COG1290', 'COG1643', 'COG1947', 'COG1179', 'COG2374', 'COG1415', 'COG1711', 'COG2105', 'COG3240', 'COG3342', 'COG3098', 'COG3288', 'COG4666', 'COG5491', 'COG2188', 'COG3199', 'COG3907', 'COG4318', 'COG4700', 'COG1392', 'COG1816', 'COG0057', 'COG1867', 'COG0348', 'COG1077', 'COG3608', 'COG2429', 'COG1310', 'COG0589', 'COG1200', 'COG1842', 'COG0653', 'COG0300', 'COG0587', 'COG1202', 'COG0458', 'COG1059', 'COG1975', 'COG0131', 'COG3213', 'COG2120', 'COG4405', 'COG5309', 'COG0768', 'COG0641', 'COG4830', 'COG4456', 'COG0145', 'COG0331', 'COG3425', 'COG1169', 'COG0362', 'COG5661', 'COG4046', 'COG1808', 'COG4923', 'COG4582', 'COG3350', 'COG0308', 'COG2859', 'COG1362', 'COG1055', 'COG1683', 'COG4641', 'COG0080', 'COG3145', 'COG4608', 'COG3298', 'COG1628', 'COG5436', 'COG1900', 'COG1143', 'COG3063', 'COG3396', 'COG1983', 'COG3427', 'COG1250', 'COG1247', 'COG1951', 'COG0826', 'COG2265', 'COG0595', 'COG4044', 'COG1061', 'COG0252', 'COG4257', 'COG3117', 'COG0758', 'COG0416', 'COG1150', 'COG0705', 'COG1240', 'COG2389', 'COG2239', 'COG3748', 'COG4246', 'COG1838', 'COG1246', 'COG4266', 'COG2247', 'COG0061', 'COG2915', 'COG1546', 'COG0282', 'COG3900', 'COG0755', 'COG3005', 'COG5524', 'COG3959', 'COG1786', 'COG2509', 'COG1469', 'COG4802', 'COG1193', 'COG3605', 'COG1239', 'COG4336', 'COG0110', 'COG1231', 'COG1787', 'COG0303', 'COG5285', 'COG1117', 'COG0726', 'COG0658', 'COG1556', 'COG4889', 'COG0181', 'COG5514', 'COG3079', 'COG3937', 'COG2956', 'COG3758', 'COG1198', 'COG0002', 'COG0790', 'COG3431', 'COG2968', 'COG3754', 'COG1894', 'COG1858', 'COG1934', 'COG4565', 'COG1602', 'COG0483', 'COG1139', 'COG4193', 'COG3284', 'COG1670', 'COG3245', 'COG0609', 'COG0785', 'COG0225', 'COG5413', 'COG1802', 'COG4092', 'COG0491', 'COG0339', 'COG2412', 'COG1376', 'COG0398', 'COG0407', 'COG1856', 'COG0585', 'COG1648', 'COG4359', 'COG0201', 'COG0277', 'COG4195', 'COG4242', 'COG0465', 'COG0704', 'COG2112', 'COG2991', 'COG2327', 'COG0010', 'COG0463', 'COG0366', 'COG4898', 'COG3083', 'COG1403', 'COG3195', 'COG0163', 'COG3071', 'COG4976', 'COG1368', 'COG1569', 'COG2825', 'COG3794', 'COG0797', 'COG3290', 'COG2013', 'COG0276', 'COG0717', 'COG2971', 'COG1555', 'COG3889', 'COG1089', 'COG5007', 'COG1597', 'COG3803', 'COG1695', 'COG1035', 'COG5498', 'COG0264', 'COG3536', 'COG0749', 'COG2755', 'COG1052', 'COG2414', 'COG3571', 'COG3215', 'COG4877', 'COG0243', 'COG0775', 'COG4096', 'COG0226', 'COG0447', 'COG2833', 'COG1526', 'COG3945', 'COG4775', 'COG5361', 'COG3458', 'COG5500', 'COG5255', 'COG1852', 'COG4229', 'COG2819', 'COG1086', 'COG0166', 'COG3340', 'COG5265', 'COG4324', 'COG2761', 'COG0021', 'COG1607', 'COG3440', 'COG0063', 'COG1154', 'COG1145', 'COG1940', 'COG0573', 'COG5530', 'COG0333', 'COG5549', 'COG1529', 'COG2352', 'COG1361', 'COG2878', 'COG2969', 'COG2084', 'COG0504', 'COG0334', 'COG4993', 'COG1429', 'COG2368', 'COG1512', 'COG1756', 'COG2914', 'COG2942', 'COG2124', 'COG2935', 'COG0581', 'COG2716', 'COG1765', 'COG0770', 'COG2896', 'COG1160', 'COG0793', 'COG3227', 'COG0146', 'COG4209', 'COG3963', 'COG1596', 'COG0103', 'COG4354', 'COG2250', 'COG0342', 'COG0471', 'COG2983', 'COG0417', 'COG3782', 'COG3339', 'COG0236', 'COG5446', 'COG3910', 'COG1585', 'COG3577', 'COG4315', 'COG3304', 'COG3665', 'COG1883', 'COG2186', 'COG3296', 'COG3650', 'COG0766', 'COG0543', 'COG4339', 'COG4638', 'COG0188', 'COG1807', 'COG2036', 'COG2840', 'COG5474', 'COG3128', 'COG3851', 'COG3839', 'COG4569', 'COG1457', 'COG1409', 'COG2246', 'COG0575', 'COG3264', 'COG1480', 'COG0420', 'COG3568', 'COG3961', 'COG1522', 'COG3653', 'COG1414', 'COG1044', 'COG4880', 'COG2269', 'COG0598', 'COG1593', 'COG0576', 'COG3566', 'COG4987', 'COG1137', 'COG2159', 'COG5508', 'COG1087', 'COG0370', 'COG1228', 'COG4579', 'COG1319', 'COG0128', 'COG3689', 'COG0043', 'COG1354', 'COG2512', 'COG0346', 'COG1047', 'COG1329', 'COG1721', 'COG0737', 'COG2090', 'COG0553', 'COG1574', 'COG0031', 'COG0681', 'COG4891', 'COG2343', 'COG0656', 'COG5631', 'COG1399', 'COG1760', 'COG3194', 'COG1132', 'COG2106', 'COG2938', 'COG0315', 'COG1191', 'COG0314', 'COG1649', 'COG3687', 'COG0451', 'COG1757', 'COG0392', 'COG0693', 'COG1624', 'COG0531', 'COG3028', 'COG1534', 'COG3854', 'COG1942', 'COG0235', 'COG0542', 'COG2391', 'COG5267', 'COG3026', 'COG3345', 'COG1675', 'COG5607', 'COG2266', 'COG1818', 'COG2110', 'COG1221', 'COG2838', 'COG3894', 'COG3012', 'COG4654', 'COG3560', 'COG0624', 'COG0247', 'COG0716', 'COG1328', 'COG0654', 'COG1820', 'COG2717', 'COG0394', 'COG0434', 'COG3590', 'COG1630', 'COG1233', 'COG0301', 'COG2008', 'COG1774', 'COG4320', 'COG3659', 'COG5512', 'COG5006', 'COG4308', 'COG0819', 'COG2233', 'COG2080', 'COG3599', 'COG4776', 'COG3383', 'COG0795', 'COG2205', 'COG0616', 'COG4120', 'COG0322', 'COG1980', 'COG2358', 'COG1181'}\n"
     ]
    }
   ],
   "source": [
    "import pandas as pd\n",
    "\n",
    "# Load the filtered COG column, specifying a delimiter and checking for quotation issues\n",
    "filtered_cog_path = '/Users/zhanghanni/Desktop/nutrient-limitation-vis/final-high-corr-COGs.csv'\n",
    "filtered_cog_df = pd.read_csv(filtered_cog_path, sep=',', quotechar='\"')\n",
    "print(filtered_cog_df.columns)\n",
    "\n",
    "# Load the reconciled COGs\n",
    "reconciled_cogs_path = 'reconciled_COGs.csv'\n",
    "reconciled_cogs_df = pd.read_csv(reconciled_cogs_path, header=None)\n",
    "\n",
    "# Convert the columns to sets\n",
    "filtered_cogs = set(filtered_cog_df['COG'])\n",
    "reconciled_cogs = set(reconciled_cogs_df[0])\n",
    "\n",
    "# Find the difference (COGs in filtered but not in reconciled)\n",
    "cogs_not_in_reconciled = filtered_cogs - reconciled_cogs\n",
    "\n",
    "# Display the result\n",
    "print(\"COGs in filtered_COG_column.tsv but not in reconciled_COGs.csv:\")\n",
    "print(cogs_not_in_reconciled)\n",
    "\n",
    "# Optionally, save the result to a file\n",
    "with open('cogs_to_reconcile.tsv', 'w') as f:\n",
    "    f.write(\"feature\\n\")  # Writing the header\n",
    "    for cog in cogs_not_in_reconciled:\n",
    "        f.write(f\"{cog}\\n\")\n"
   ]
  },
  {
   "cell_type": "code",
   "execution_count": 1,
   "id": "6da852c9-9cb4-48c5-a208-4b8a361a0bec",
   "metadata": {
    "tags": []
   },
   "outputs": [
    {
     "name": "stdout",
     "output_type": "stream",
     "text": [
      "(621, 9)\n"
     ]
    }
   ],
   "source": [
    "#start over, select high correlation only\n",
    "import pandas as pd\n",
    "\n",
    "# Load the TSV file\n",
    "file_path = '/Users/zhanghanni/Desktop/nutrient-limitation-vis/raw_significant_results.tsv'\n",
    "\n",
    "# Read the TSV file\n",
    "df = pd.read_csv(file_path, sep='\\t')\n",
    "\n",
    "# Filter rows where the absolute value of the coefficient is greater than 0.7\n",
    "filtered_df = df[df['qval'].abs() < 0.001]\n",
    "\n",
    "# Display the filtered DataFrame\n",
    "print(filtered_df.shape)\n",
    "\n",
    "# Optionally, save the filtered DataFrame to a new TSV file\n",
    "filtered_df[\"feature\"].to_csv('high_coef_COGs.tsv', sep='\\t', index=False)\n"
   ]
  },
  {
   "cell_type": "code",
   "execution_count": 2,
   "id": "f9b27a5f-8654-4a06-ab7e-af9b24aed238",
   "metadata": {
    "tags": []
   },
   "outputs": [
    {
     "name": "stdout",
     "output_type": "stream",
     "text": [
      "COGs in filtered_COG_column.tsv but not in reconciled_COGs.csv:\n",
      "{'COG2006', 'COG3909', 'COG2199', 'COG1509', 'COG0621', 'COG2863', 'COG0325', 'COG1781', 'COG0353', 'COG5385', 'COG4219', 'COG1269', 'COG4412', 'COG0666', 'COG1240', 'COG2378', 'COG1792', 'COG0703', 'COG5602', 'COG1195', 'COG5319', 'COG0312', 'COG0825', 'COG0279', 'COG0128', 'COG1200', 'COG3267', 'COG2912', 'COG1030', 'COG4585', 'COG1752', 'COG5276', 'COG1586', 'COG0309', 'COG1545', 'COG2810', 'COG1310', 'COG0118', 'COG1018', 'COG1155', 'COG0627', 'COG2220', 'COG3321', 'COG2188', 'COG1686', 'COG4972', 'COG2980', 'COG1185', 'COG3273', 'COG1404', 'COG0705', 'COG3346', 'COG1251', 'COG1154', 'COG2801', 'COG1319', 'COG3228', 'COG0772', 'COG0183', 'COG0620', 'COG0424', 'COG0638', 'COG1974', 'COG1250', 'COG1816', 'COG4679', 'COG3427', 'COG3547', 'COG0191', 'COG3659', 'COG3316', 'COG3239', 'COG1247', 'COG2019', 'COG0278', 'COG5460', 'COG0730', 'COG0707', 'COG3822', 'COG0708', 'COG0654', 'COG0767', 'COG3472', 'COG0302', 'COG0768', 'COG3824', 'COG1418', 'COG0669', 'COG1296', 'COG3131', 'COG0133', 'COG3415', 'COG4133', 'COG2185', 'COG0253', 'COG0141', 'COG1484', 'COG4946', 'COG3620', 'COG1231', 'COG3293', 'COG1432', 'COG5305', 'COG2755', 'COG1479', 'COG0740', 'COG3403', 'COG3031', 'COG1426', 'COG2956', 'COG0176', 'COG0243', 'COG2976', 'COG3576', 'COG0265', 'COG1703', 'COG0706', 'COG1985', 'COG3369', 'COG1277', 'COG1394', 'COG0433', 'COG3787', 'COG0847', 'COG5652', 'COG3875', 'COG0043', 'COG3614', 'COG2814', 'COG0169', 'COG0042', 'COG0549', 'COG5373', 'COG3661', 'COG0357', 'COG1180', 'COG1852', 'COG0771', 'COG3564', 'COG3850', 'COG1694', 'COG1975', 'COG3894', 'COG0166', 'COG1148', 'COG0755', 'COG1936', 'COG1514', 'COG0142', 'COG1328', 'COG3876', 'COG0643', 'COG0437', 'COG1837', 'COG0266', 'COG0682', 'COG3292', 'COG5483', 'COG3672', 'COG3651', 'COG3385', 'COG0766', 'COG3577', 'COG1271', 'COG3476', 'COG3380', 'COG1585', 'COG0444', 'COG3326', 'COG1287', 'COG5429', 'COG0313', 'COG1670', 'COG0337', 'COG0123', 'COG3372', 'COG1331', 'COG2849', 'COG0728', 'COG4240', 'COG0486', 'COG3531', 'COG3137', 'COG0646', 'COG3964', 'COG2911', 'COG0513', 'COG3603', 'COG0389', 'COG2080', 'COG0414', 'COG4875', 'COG0483', 'COG3789', 'COG1035', 'COG3467', 'COG0460', 'COG0749', 'COG0092', 'COG0233', 'COG0481', 'COG1156', 'COG3391', 'COG0005', 'COG0225', 'COG2131', 'COG2150', 'COG0014', 'COG1246', 'COG2608', 'COG3187', 'COG0419', 'COG3608', 'COG0344', 'COG0816', 'COG0006', 'COG0763', 'COG2265', 'COG0097', 'COG0036', 'COG5482', 'COG2227', 'COG3921', 'COG3907', 'COG0134', 'COG3126', 'COG3568', 'COG1134', 'COG0147', 'COG0653', 'COG0611', 'COG3637', 'COG0113', 'COG0799', 'COG0110', 'COG0135', 'COG5427', 'COG2120', 'COG0710', 'COG0030', 'COG0041', 'COG0194', 'COG0342', 'COG0726', 'COG0721', 'COG2921', 'COG0261', 'COG2914', 'COG0512', 'COG1666', 'COG0561', 'COG4929', 'COG2738', 'COG1382', 'COG5488', 'COG0057', 'COG0745', 'COG1828', 'COG0828', 'COG0345', 'COG0160', 'COG2225', 'COG1465', 'COG1403', 'COG3635', 'COG5507', 'COG1135', 'COG2194', 'COG5306', 'COG1414', 'COG0445', 'COG0761', 'COG0801', 'COG1013', 'COG3797', 'COG0017', 'COG0515', 'COG1773', 'COG1182', 'COG1977', 'COG1109', 'COG3117', 'COG0322', 'COG0420', 'COG2975', 'COG1716', 'COG0794', 'COG1530', 'COG1390', 'COG0694', 'COG1943', 'COG3571', 'COG1327', 'COG4948', 'COG0394', 'COG0413', 'COG1917', 'COG1522', 'COG1063', 'COG1207', 'COG3550', 'COG1787', 'COG0711', 'COG0815', 'COG0674', 'COG0196', 'COG0412', 'COG4677', 'COG4257', 'COG4878', 'COG2982', 'COG4225', 'COG3934', 'COG2333', 'COG2388', 'COG3877', 'COG0227', 'COG3318', 'COG3047', 'COG5009', 'COG0289', 'COG0307', 'COG1027', 'COG4993', 'COG3401', 'COG3077', 'COG1047', 'COG3328', 'COG0773', 'COG0440', 'COG0603', 'COG0114', 'COG1060', 'COG0759', 'COG1045', 'COG3899', 'COG3063', 'COG1044', 'COG1274', 'COG3829', 'COG5352', 'COG3451', 'COG0531', 'COG0452', 'COG0824', 'COG2843', 'COG0341', 'COG1043', 'COG0616', 'COG0770', 'COG0681', 'COG0557', 'COG3666', 'COG4221', 'COG1574', 'COG1893', 'COG0348', 'COG3981', 'COG0159', 'COG0790', 'COG5642', 'COG4251', 'COG3045', 'COG1683', 'COG3072', 'COG0791', 'COG1131', 'COG1064', 'COG1381', 'COG5012', 'COG5587', 'COG2429', 'COG0264', 'COG1014', 'COG0328', 'COG1602', 'COG0229', 'COG3653', 'COG1698', 'COG0742', 'COG4627', 'COG0691', 'COG1139', 'COG0103', 'COG0271', 'COG2159', 'COG1702', 'COG4775', 'COG3344', 'COG0492', 'COG1385', 'COG3734', 'COG1775', 'COG5285', 'COG2963', 'COG0539', 'COG0690', 'COG1272', 'COG5523', 'COG5360', 'COG5461', 'COG4992', 'COG1529', 'COG1968', 'COG0106', 'COG0407', 'COG1186', 'COG5000', 'COG3177', 'COG2414', 'COG3583', 'COG1556', 'COG3696', 'COG1527', 'COG1145', 'COG2271', 'COG1198', 'COG2141'}\n",
      "418\n"
     ]
    }
   ],
   "source": [
    "import pandas as pd\n",
    "\n",
    "# Load the filtered COG column, ensure correct column names\n",
    "filtered_cog_path = 'COGs_to_reconcile.tsv'\n",
    "filtered_cog_df = pd.read_csv(filtered_cog_path, sep='\\t', header=None, names=['COG'])\n",
    "\n",
    "# Load the reconciled COGs, ensuring it loads correctly\n",
    "reconciled_cogs_path = '/Users/zhanghanni/Desktop/nutrient-limitation-vis/COG_reconciliation_summary_ugam1.csv'\n",
    "reconciled_cogs_df = pd.read_csv(reconciled_cogs_path)\n",
    "\n",
    "# Convert the columns to sets\n",
    "filtered_cogs = set(filtered_cog_df['COG'])\n",
    "reconciled_cogs = set(reconciled_cogs_df['COG'])\n",
    "\n",
    "# Find the difference (COGs in filtered but not in reconciled)\n",
    "cogs_not_in_reconciled = filtered_cogs - reconciled_cogs\n",
    "\n",
    "# Display the result\n",
    "print(\"COGs in filtered_COG_column.tsv but not in reconciled_COGs.csv:\")\n",
    "print(cogs_not_in_reconciled)\n",
    "\n",
    "# Optionally, save the result to a file\n",
    "with open('cogs_to_reconcile.tsv', 'w') as f:\n",
    "    for cog in cogs_not_in_reconciled:\n",
    "        f.write(f\"{cog}\\n\")\n",
    "\n",
    "# Function to split COGs into groups of 20 for dispatch commands\n",
    "def chunker(seq, size):\n",
    "    return (seq[pos:pos + size] for pos in range(0, len(seq), size))\n",
    "\n",
    "# Convert set to list to preserve order when chunking\n",
    "cog_list = list(cogs_not_in_reconciled)\n",
    "print(len(cog_list))\n",
    "\n",
    "# Generate a .txt file containing dispatch commands for unreconciled COGs in groups of 20\n",
    "with open('dispatch_commands.txt', 'w') as file:\n",
    "    for group in chunker(cog_list, 40):\n",
    "        cogs_str = ' '.join(group)  # Create a space-separated string of COGs for the command\n",
    "        command = f\"./dispatch-COGs.sh --flags \\\"--COG\\\" --COG_list \\\"{cogs_str}\\\" --clock_model \\\"ugam1 cir1\\\"\\n\"\n",
    "        file.write(command)\n",
    "\n",
    "        "
   ]
  },
  {
   "cell_type": "code",
   "execution_count": 20,
   "id": "9cd3a277-25a1-4eb6-8d15-325a2dde40be",
   "metadata": {},
   "outputs": [
    {
     "name": "stdout",
     "output_type": "stream",
     "text": [
      "COGs not reconciled:\n",
      "418\n"
     ]
    }
   ],
   "source": [
    "import pandas as pd\n",
    "\n",
    "# Paths to the CSV files\n",
    "reconciled_cogs_path_cir = '/Users/zhanghanni/Desktop/nutrient-limitation-vis/Final/COG_reconciliation_summary_cir1.csv'\n",
    "reconciled_cogs_path_ugam = '/Users/zhanghanni/Desktop/nutrient-limitation-vis/Final/COG_reconciliation_summary_ugam1.csv'\n",
    "\n",
    "# Reading the CSV files\n",
    "reconciled_cogs_df_cir = pd.read_csv(reconciled_cogs_path_cir)\n",
    "reconciled_cogs_df_ugam = pd.read_csv(reconciled_cogs_path_ugam)\n",
    "\n",
    "# Combining sets of 'COG' from both DataFrames using set union\n",
    "reconciled_cogs = set(reconciled_cogs_df_cir['COG']).union(set(reconciled_cogs_df_ugam['COG']))\n",
    "\n",
    "\n",
    "import pandas as pd\n",
    "\n",
    "# Path to the CSV file\n",
    "filtered_cog_df_path = \"/Users/zhanghanni/Desktop/nutrient-limitation-vis/Final/FINAL-significant_COG_list.csv\"\n",
    "\n",
    "# Loading the CSV file\n",
    "filtered_cog_df = pd.read_csv(filtered_cog_df_path)\n",
    "\n",
    "\n",
    "\n",
    "# Drop rows where 'corr_above_0.6' is NaN\n",
    "filtered_cog_df = filtered_cog_df.dropna(subset=['corr_above_0.6'])\n",
    "\n",
    "\n",
    "# Filter rows where 'corr_above_0.6' is TRUE\n",
    "# Assuming 'corr_above_0.6' is a boolean column; if strings, use == 'TRUE'\n",
    "filtered_cog_df = filtered_cog_df[filtered_cog_df['corr_above_0.6'] == True]\n",
    "\n",
    "\n",
    "\n",
    "# Extracting the set of 'COG' values\n",
    "filtered_cogs = set(filtered_cog_df['COG'])\n",
    "\n",
    "\n",
    "\n",
    "# Finding the difference between the sets\n",
    "cogs_not_in_reconciled2 = filtered_cogs - reconciled_cogs\n",
    "\n",
    "# Optionally, you can display the unreconciled COGs\n",
    "print(\"COGs not reconciled:\")\n",
    "print(len(cogs_not_in_reconciled2))\n",
    "\n",
    "\n",
    "\n",
    "# Optionally, save the result to a file\n",
    "with open('cogs_to_reconcile.tsv', 'w') as f:\n",
    "    for cog in cogs_not_in_reconciled:\n",
    "        f.write(f\"{cog}\\n\")\n",
    "\n",
    "# Function to split COGs into groups of 20 for dispatch commands\n",
    "def chunker(seq, size):\n",
    "    return (seq[pos:pos + size] for pos in range(0, len(seq), size))\n",
    "\n",
    "# Convert set to list to preserve order when chunking\n",
    "cog_list = list(cogs_not_in_reconciled2)\n",
    "\n",
    "# Generate a .txt file containing dispatch commands for unreconciled COGs in groups of 20\n",
    "with open('dispatch_commands.txt', 'w') as file:\n",
    "    for group in chunker(cog_list, 40):\n",
    "        cogs_str = ' '.join(group)  # Create a space-separated string of COGs for the command\n",
    "        command = f\"./dispatch-COGs.sh --flags \\\"--COG\\\" --COG_list \\\"{cogs_str}\\\" --clock_model \\\"ugam1 cir1\\\"\\n\"\n",
    "        file.write(command)\n",
    "\n",
    "        "
   ]
  },
  {
   "cell_type": "code",
   "execution_count": null,
   "id": "c6b9f809-e6c8-4fca-8485-72fdb263ea9e",
   "metadata": {},
   "outputs": [],
   "source": []
  },
  {
   "cell_type": "code",
   "execution_count": null,
   "id": "b1a66085-88a4-457c-aaf2-1c9f7c6ec42b",
   "metadata": {},
   "outputs": [],
   "source": []
  },
  {
   "cell_type": "code",
   "execution_count": null,
   "id": "55e4aa7b-d2e7-4813-b0cf-19877b051c22",
   "metadata": {},
   "outputs": [],
   "source": []
  }
 ],
 "metadata": {
  "kernelspec": {
   "display_name": "Python 3 (ipykernel)",
   "language": "python",
   "name": "python3"
  },
  "language_info": {
   "codemirror_mode": {
    "name": "ipython",
    "version": 3
   },
   "file_extension": ".py",
   "mimetype": "text/x-python",
   "name": "python",
   "nbconvert_exporter": "python",
   "pygments_lexer": "ipython3",
   "version": "3.11.3"
  }
 },
 "nbformat": 4,
 "nbformat_minor": 5
}
