{
 "cells": [
  {
   "cell_type": "code",
   "execution_count": 12,
   "id": "fc1ea74a-cd28-4b3f-adf6-52a3daca9b68",
   "metadata": {
    "tags": []
   },
   "outputs": [],
   "source": [
    "import numpy as np\n",
    "\n",
    "# Function to generate the hyperpriors with dense sampling in the lower range and larger increments in the higher range\n",
    "def generate_hyperpriors(lower_bound, upper_bound, dense_increment, expansion_factor, max_value):\n",
    "    # Start with dense sampling in the lower range\n",
    "    hyperpriors = np.arange(lower_bound, upper_bound, dense_increment).tolist()\n",
    "    \n",
    "    # Continue with larger increments in the higher range\n",
    "    current_value = upper_bound\n",
    "    while current_value <= max_value:\n",
    "        hyperpriors.append(current_value)\n",
    "        increment = (current_value - hyperpriors[-2]) * expansion_factor\n",
    "        # Ensure that the increment does not shrink smaller than the dense increment\n",
    "        increment = max(increment, dense_increment)\n",
    "        current_value += increment\n",
    "\n",
    "    # Ensure the last value does not exceed the maximum value set\n",
    "    hyperpriors = [x for x in hyperpriors if x <= max_value]\n",
    "    \n",
    "    return hyperpriors\n"
   ]
  },
  {
   "cell_type": "code",
   "execution_count": 21,
   "id": "3c561b74-045d-4993-a5b5-efd48a818fae",
   "metadata": {
    "tags": []
   },
   "outputs": [
    {
     "name": "stdout",
     "output_type": "stream",
     "text": [
      "37\n",
      "[0.0, 0.3, 0.6, 0.8999999999999999, 1.2, 1.5, 1.7999999999999998, 2.1, 2.4, 2.6999999999999997, 3.0, 3.3, 3.5999999999999996, 3.9, 4.2, 4.5, 4.8, 5.0, 5.3, 5.675, 6.14375, 6.7296875, 7.462109375, 8.37763671875, 9.522045898437502, 10.95255737304688, 12.7406967163086, 14.97587089538575, 17.76983861923219, 21.262298274040237, 25.627872842550296, 31.08484105318787, 37.906051316484835, 46.43256414560604, 57.09070518200754, 70.41338147750942, 87.06672684688677]\n"
     ]
    }
   ],
   "source": [
    "# Parameters for the hyperpriors\n",
    "lower_bound = 0  # Starting point for the dense sampling\n",
    "upper_bound = 5.0  # End point for the dense sampling\n",
    "dense_increment = 0.3  # Increment for the dense sampling\n",
    "expansion_factor = 1.25  # Factor by which the increment increases in the expanded range\n",
    "max_value = 100.0  # Maximum value for the hyperpriors\n",
    "\n",
    "# Generate the list of hyperpriors\n",
    "hyperpriors = generate_hyperpriors(lower_bound, upper_bound, dense_increment, expansion_factor, max_value)\n",
    "print(len(hyperpriors))\n",
    "print(hyperpriors)"
   ]
  },
  {
   "cell_type": "code",
   "execution_count": null,
   "id": "a3362608-517c-46b6-bba1-7efe997ed0eb",
   "metadata": {},
   "outputs": [],
   "source": []
  }
 ],
 "metadata": {
  "kernelspec": {
   "display_name": "Python 3 (ipykernel)",
   "language": "python",
   "name": "python3"
  },
  "language_info": {
   "codemirror_mode": {
    "name": "ipython",
    "version": 3
   },
   "file_extension": ".py",
   "mimetype": "text/x-python",
   "name": "python",
   "nbconvert_exporter": "python",
   "pygments_lexer": "ipython3",
   "version": "3.11.3"
  }
 },
 "nbformat": 4,
 "nbformat_minor": 5
}
