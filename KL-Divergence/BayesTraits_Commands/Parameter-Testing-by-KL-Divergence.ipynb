{
 "cells": [
  {
   "cell_type": "code",
   "execution_count": 9,
   "id": "fa51639e-be2f-46b8-9058-dc204edba264",
   "metadata": {
    "tags": []
   },
   "outputs": [],
   "source": [
    "#1. generate hyperpriors\n",
    "import numpy as np\n",
    "\n",
    "# Function to generate the hyperpriors with dense sampling in the lower range and larger increments in the higher range\n",
    "def generate_hyperpriors(lower_bound, upper_bound, dense_increment, expansion_factor, max_value):\n",
    "    # Start with dense sampling in the lower range\n",
    "    hyperpriors = np.arange(lower_bound, upper_bound, dense_increment).tolist()\n",
    "    \n",
    "    # Continue with larger increments in the higher range\n",
    "    current_value = upper_bound\n",
    "    while current_value <= max_value:\n",
    "        hyperpriors.append(current_value)\n",
    "        increment = (current_value - hyperpriors[-2]) * expansion_factor\n",
    "        # Ensure that the increment does not shrink smaller than the dense increment\n",
    "        increment = max(increment, dense_increment)\n",
    "        current_value += increment\n",
    "\n",
    "    # Ensure the last value does not exceed the maximum value set\n",
    "    hyperpriors = [x for x in hyperpriors if x <= max_value]\n",
    "    \n",
    "    return hyperpriors\n"
   ]
  },
  {
   "cell_type": "code",
   "execution_count": 10,
   "id": "569139de-d14b-459c-90e5-654d654cb4c0",
   "metadata": {
    "tags": []
   },
   "outputs": [
    {
     "name": "stdout",
     "output_type": "stream",
     "text": [
      "37\n",
      "[0.0, 0.3, 0.6, 0.8999999999999999, 1.2, 1.5, 1.7999999999999998, 2.1, 2.4, 2.6999999999999997, 3.0, 3.3, 3.5999999999999996, 3.9, 4.2, 4.5, 4.8, 5.0, 5.3, 5.675, 6.14375, 6.7296875, 7.462109375, 8.37763671875, 9.522045898437502, 10.95255737304688, 12.7406967163086, 14.97587089538575, 17.76983861923219, 21.262298274040237, 25.627872842550296, 31.08484105318787, 37.906051316484835, 46.43256414560604, 57.09070518200754, 70.41338147750942, 87.06672684688677]\n"
     ]
    }
   ],
   "source": [
    "# Parameters for the hyperpriors\n",
    "lower_bound = 0  # Starting point for the dense sampling\n",
    "upper_bound = 5.0  # End point for the dense sampling\n",
    "dense_increment = 0.3  # Increment for the dense sampling\n",
    "expansion_factor = 1.25  # Factor by which the increment increases in the expanded range\n",
    "max_value = 100.0  # Maximum value for the hyperpriors\n",
    "\n",
    "# Generate the list of hyperpriors\n",
    "hyperpriors = generate_hyperpriors(lower_bound, upper_bound, dense_increment, expansion_factor, max_value)\n",
    "print(len(hyperpriors))\n",
    "print(hyperpriors)"
   ]
  },
  {
   "cell_type": "code",
   "execution_count": 30,
   "id": "a5f96458-9fa1-454a-bcd0-5f6e7114e559",
   "metadata": {
    "tags": []
   },
   "outputs": [],
   "source": [
    "import dendropy\n",
    "\n",
    "nexus_tree_path = '/Users/zhanghanni/Desktop/ASR_JoannesTree_Jun2023/J_newToL_BSrmd.nexus'\n",
    "\n",
    "tree = dendropy.Tree.get(path=nexus_tree_path, schema='nexus')\n",
    "\n",
    "# Get the internal nodes, excluding the root\n",
    "internal_nodes = [node for node in tree.internal_nodes() if node.parent_node is not None]\n",
    "\n",
    "commands = []\n",
    "\n",
    "for idx, node in enumerate(internal_nodes):\n",
    "    node_name = f\"Node{idx}\"\n",
    "    node_taxa = node.leaf_nodes()\n",
    "    \n",
    "    taxa_labels = [taxon.taxon.label for taxon in node_taxa]\n",
    "    \n",
    "    # if None in taxa_labels:\n",
    "    #     continue\n",
    "\n",
    "    tag_command = f\"AddTag {node_name} {' '.join(taxa_labels)}\"\n",
    "    commands.append(tag_command)\n",
    "    \n",
    "    mrca_command = f\"AddMRCA {node_name} {node_name}\"\n",
    "    commands.append(mrca_command)"
   ]
  },
  {
   "cell_type": "code",
   "execution_count": 33,
   "id": "9f574b4e-c63c-408f-8663-00e54c294ea9",
   "metadata": {
    "tags": []
   },
   "outputs": [],
   "source": [
    "# 2.  make command files for BayesTraits\n",
    "#naming: 'KL+{prior}' for KL diverence tests\n",
    "count = 1\n",
    "for p in hyperpriors:\n",
    "    prior = p\n",
    "    log = f'KL-{prior}' \n",
    "    prior = f'RevJumpHP exp 0 {prior}'\n",
    "\n",
    "    output = open(f'KL_ToL_MRCACommands_{count}', 'w')\n",
    "    output.write(f\"1\\n2\\ncores 2\\n{prior}\\nIt -1\\nLogFile {log}\\n\")\n",
    "    count += 1\n",
    "    # #run genome-same-phyla.py first\n",
    "    # with open('/Users/zhanghanni/Desktop/ASR_JoannesTree_Jun2023/phyla_majorClade.txt', 'r') as file:\n",
    "    #     contents = file.read()\n",
    "    #     output.write(contents)\n",
    "\n",
    "    for command in commands:\n",
    "        output.write(command+\"\\n\")\n",
    "        #print(command)\n",
    "    output.write(\"Run\")\n",
    "    output.close()"
   ]
  },
  {
   "cell_type": "code",
   "execution_count": null,
   "id": "4df023e5-ef52-4f0d-bc8e-ddcd94018e77",
   "metadata": {},
   "outputs": [],
   "source": []
  },
  {
   "cell_type": "code",
   "execution_count": null,
   "id": "e99d3b3c-179b-4c82-b96b-f42598cc0624",
   "metadata": {},
   "outputs": [],
   "source": []
  }
 ],
 "metadata": {
  "kernelspec": {
   "display_name": "Python 3 (ipykernel)",
   "language": "python",
   "name": "python3"
  },
  "language_info": {
   "codemirror_mode": {
    "name": "ipython",
    "version": 3
   },
   "file_extension": ".py",
   "mimetype": "text/x-python",
   "name": "python",
   "nbconvert_exporter": "python",
   "pygments_lexer": "ipython3",
   "version": "3.11.3"
  }
 },
 "nbformat": 4,
 "nbformat_minor": 5
}
